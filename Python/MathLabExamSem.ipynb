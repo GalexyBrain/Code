{
 "cells": [
  {
   "cell_type": "code",
   "execution_count": 4,
   "metadata": {},
   "outputs": [
    {
     "name": "stdout",
     "output_type": "stream",
     "text": [
      "Equal\n"
     ]
    }
   ],
   "source": [
    "#Make use of python program, prove 𝑢𝑥𝑦 = 𝑢𝑦𝑥 for u = exp(x)(xcos(y) − ysin(y)).\n",
    "from sympy import *\n",
    "x,y = symbols(\"x , y\")\n",
    "u = exp(x)*x*cos(y) - y*sin(y)\n",
    "duxy = diff(diff(u,x),y)\n",
    "duyx = diff(diff(u,y),x)\n",
    "if duxy == duyx:\n",
    "    print(\"Equal\")\n",
    "else:\n",
    "    print(\"Unequal\")"
   ]
  },
  {
   "cell_type": "code",
   "execution_count": 8,
   "metadata": {},
   "outputs": [
    {
     "data": {
      "text/plain": [
       "[Eq(y(x), -sqrt(1/(C1 - 2*sin(x)))*cos(x)),\n",
       " Eq(y(x), sqrt(1/(C1 - 2*sin(x)))*cos(x))]"
      ]
     },
     "metadata": {},
     "output_type": "display_data"
    }
   ],
   "source": [
    "#Make use of python program, solve 𝑑𝑦/𝑑𝑥+ 𝑦𝑡𝑎𝑛𝑥 − 𝑦^3*𝑠𝑒𝑐𝑥 = 0.\n",
    "from sympy import *\n",
    "x,y = symbols(\"x,y\")\n",
    "y = Function(\"y\")(x)\n",
    "dx = diff(y,x)\n",
    "z = dsolve(Eq(dx + y*tan(x) - y**3*sec(x),0))\n",
    "display(z)"
   ]
  },
  {
   "cell_type": "code",
   "execution_count": 9,
   "metadata": {},
   "outputs": [
    {
     "data": {
      "text/plain": [
       "[Eq(y(x), (x**3/(C1 + 3*sin(x)))**(1/3)),\n",
       " Eq(y(x), (x**3/(C1 + 3*sin(x)))**(1/3)*(-1 - sqrt(3)*I)/2),\n",
       " Eq(y(x), (x**3/(C1 + 3*sin(x)))**(1/3)*(-1 + sqrt(3)*I)/2)]"
      ]
     },
     "metadata": {},
     "output_type": "display_data"
    }
   ],
   "source": [
    "#Make use of python program, solve 𝑥^3*𝑑𝑦/𝑑𝑥− 𝑥^2*𝑦 + 𝑦^4*𝑐𝑜𝑠𝑥 = 0\n",
    "from sympy import *\n",
    "x,y = symbols(\"x, y\")\n",
    "y = Function(\"y\")(x)\n",
    "dy = diff(y,x)\n",
    "solved = dsolve(Eq(x**3*dy - x**2*y + y**4*cos(x),0))\n",
    "display(solved)"
   ]
  },
  {
   "cell_type": "code",
   "execution_count": 14,
   "metadata": {},
   "outputs": [
    {
     "data": {
      "text/latex": [
       "$\\displaystyle 3.77123616632825$"
      ],
      "text/plain": [
       "3.77123616632825"
      ]
     },
     "metadata": {},
     "output_type": "display_data"
    }
   ],
   "source": [
    "#Make use of python program, find the radius of curvature, r = 4(1 + cost) at t=π/2.\n",
    "from sympy import *\n",
    "r,t = symbols(\"r,t\")\n",
    "r = 4*(1+cos(t))\n",
    "r1 = diff(r,t)\n",
    "r2 = diff(r1,t)\n",
    "result = (r**2 + r1**2)**(3/2)/(r**2 + 2*r1**2 - r*r2)\n",
    "display(simplify(result).subs(t, pi/2))\n"
   ]
  },
  {
   "cell_type": "code",
   "execution_count": 23,
   "metadata": {},
   "outputs": [
    {
     "data": {
      "text/latex": [
       "$\\displaystyle \\frac{\\left(a^{2}\\right)^{1.5}}{2 a^{2}}$"
      ],
      "text/plain": [
       "(a**2)**1.5/(2*a**2)"
      ]
     },
     "metadata": {},
     "output_type": "display_data"
    }
   ],
   "source": [
    "#Make use of python program, find the radius of curvature for r=asin(nt) at t=pi/2 and n = 1.\n",
    "from sympy import *\n",
    "r,t,n,a = symbols(\"r,t,n,a\")\n",
    "r = a*sin(n*t)\n",
    "r1 = diff(r,t)\n",
    "r2 = diff(r1,t)\n",
    "equation = (r**2 + r1**2)**(3/2)/(r**2 + 2*r1**2 - r*r2)\n",
    "display(simplify(equation).subs({t : pi/2, n : 1}))\n"
   ]
  },
  {
   "cell_type": "code",
   "execution_count": 62,
   "metadata": {},
   "outputs": [
    {
     "name": "stdout",
     "output_type": "stream",
     "text": [
      "The Jacobian matrix is\n"
     ]
    },
    {
     "data": {
      "text/latex": [
       "$\\displaystyle \\left[\\begin{matrix}\\frac{y}{z} & \\frac{x}{z} & - \\frac{x y}{z^{2}}\\\\- \\frac{y z}{x^{2}} & \\frac{z}{x} & \\frac{y}{x}\\\\\\frac{z}{y} & - \\frac{x z}{y^{2}} & \\frac{x}{y}\\end{matrix}\\right]$"
      ],
      "text/plain": [
       "Matrix([\n",
       "[      y/z,       x/z, -x*y/z**2],\n",
       "[-y*z/x**2,       z/x,       y/x],\n",
       "[      z/y, -x*z/y**2,       x/y]])"
      ]
     },
     "metadata": {},
     "output_type": "display_data"
    },
    {
     "name": "stdout",
     "output_type": "stream",
     "text": [
      "J = 4\n"
     ]
    }
   ],
   "source": [
    "#Make use of python program, if u = xy/z, v = yz/x, w = zx/y then proveJ = 4.\n",
    "from sympy import *\n",
    "x,y,z = symbols(\"x,y,z\")\n",
    "A = [x*y/z, y*z/x, z*x/y]\n",
    "B = [x, y, z]\n",
    "M = Matrix([[diff(A[i], B[j]) for j in range(0,len(B))]for i in range(0,len(A))])\n",
    "print(\"The Jacobian matrix is\")\n",
    "display(M)\n",
    "print(\"J =\",Determinant(M).doit())"
   ]
  },
  {
   "cell_type": "code",
   "execution_count": 36,
   "metadata": {},
   "outputs": [
    {
     "name": "stdout",
     "output_type": "stream",
     "text": [
      "The Jacobian matrix is\n"
     ]
    },
    {
     "data": {
      "text/latex": [
       "$\\displaystyle \\left[\\begin{matrix}\\sin{\\left(\\theta \\right)} \\cos{\\left(\\phi \\right)} & - \\rho \\sin{\\left(\\phi \\right)} \\sin{\\left(\\theta \\right)} & \\rho \\cos{\\left(\\phi \\right)} \\cos{\\left(\\theta \\right)}\\\\\\cos{\\left(\\phi \\right)} \\cos{\\left(\\theta \\right)} & - \\rho \\sin{\\left(\\phi \\right)} \\cos{\\left(\\theta \\right)} & - \\rho \\sin{\\left(\\theta \\right)} \\cos{\\left(\\phi \\right)}\\\\\\sin{\\left(\\phi \\right)} & \\rho \\cos{\\left(\\phi \\right)} & 0\\end{matrix}\\right]$"
      ],
      "text/plain": [
       "Matrix([\n",
       "[sin(theta)*cos(phi), -rho*sin(phi)*sin(theta),  rho*cos(phi)*cos(theta)],\n",
       "[cos(phi)*cos(theta), -rho*sin(phi)*cos(theta), -rho*sin(theta)*cos(phi)],\n",
       "[           sin(phi),             rho*cos(phi),                        0]])"
      ]
     },
     "metadata": {},
     "output_type": "display_data"
    },
    {
     "name": "stdout",
     "output_type": "stream",
     "text": [
      "J =\n"
     ]
    },
    {
     "data": {
      "text/latex": [
       "$\\displaystyle \\rho^{2} \\cos{\\left(\\phi \\right)}$"
      ],
      "text/plain": [
       "rho**2*cos(phi)"
      ]
     },
     "metadata": {},
     "output_type": "display_data"
    }
   ],
   "source": [
    "#Make use of python program, if X = ρ ∗ cos(ϕ) ∗ sin(θ), Y = ρ ∗ cos(ϕ) ∗ cos(θ), Z = ρ ∗ sin(ϕ) then find 𝜕(𝑋,𝑌,𝑍)/𝜕(𝜌,𝜙,𝜃).\n",
    "from sympy import *\n",
    "from sympy.abc import rho, phi, theta\n",
    "A = [rho * cos(phi) * sin(theta), rho * cos(phi) * cos(theta), rho * sin(phi)]\n",
    "B = [rho,phi,theta]\n",
    "M = Matrix([[diff(A[i], B[j]) for j in range(0,len(B))]for i in range(0,len(A))])\n",
    "print(\"The Jacobian matrix is\")\n",
    "display(M)\n",
    "print(\"J =\")\n",
    "display(simplify(Determinant(M).doit()))"
   ]
  },
  {
   "cell_type": "code",
   "execution_count": 51,
   "metadata": {},
   "outputs": [
    {
     "name": "stdout",
     "output_type": "stream",
     "text": [
      "The system has unique soution\n",
      "[[ 7.]\n",
      " [-4.]\n",
      " [-2.]]\n"
     ]
    }
   ],
   "source": [
    "#Make use of python program, examine the consistency of the following system of equations and solve if consistent. \n",
    "#𝑥1 + 2 𝑥2 − 𝑥3= 1, 2 𝑥1+ 𝑥2+ 4 𝑥3= 2, 3 𝑥1+ 3 𝑥2+ 4 𝑥3 = 1.\n",
    "from numpy import *\n",
    "A = matrix([[1, 2, -1], [2, 1, 4], [3, 3, 4]])\n",
    "B = matrix([[1], [2], [1]])\n",
    "AB = concatenate((A, B), axis = 1)\n",
    "rA = linalg.matrix_rank(A)\n",
    "rAB = linalg.matrix_rank(AB)\n",
    "n = shape(AB)[0]\n",
    "if rA == rAB:\n",
    "    if rA == n:\n",
    "        print(\"The system has unique soution\")\n",
    "        print(linalg.solve(A,B))\n",
    "    else:\n",
    "        print(\"The system has infinite soution\")\n",
    "else:\n",
    "    print(\"The system is inconsistent\")"
   ]
  },
  {
   "cell_type": "code",
   "execution_count": 53,
   "metadata": {},
   "outputs": [
    {
     "name": "stdout",
     "output_type": "stream",
     "text": [
      "The system is inconsistent\n"
     ]
    }
   ],
   "source": [
    "#Make use of python program, examine the consistency of the following system of equations and solve if consistent. \n",
    "#𝑥1 + 2 𝑥2 − 𝑥3= 1, 2 𝑥1+ 𝑥2+ 5 𝑥3= 2, 3 𝑥1+ 3 𝑥2+ 4 𝑥3 = 1.\n",
    "from numpy import *\n",
    "A = matrix([[1, 2, -1], [2, 1, 5], [3, 3, 4]])\n",
    "B = matrix([[1], [2], [1]])\n",
    "AB = concatenate((A, B), axis = 1)\n",
    "rA = linalg.matrix_rank(A)\n",
    "rAB = linalg.matrix_rank(AB)\n",
    "n = shape(A)[0]\n",
    "if rA == rAB:\n",
    "    if rA == n:\n",
    "        print(\"The system has unique solution\")\n",
    "        print(linalg.solve(A, B))\n",
    "    else:\n",
    "        print(\"The system has infinite solution\")\n",
    "else:\n",
    "    print(\"The system is inconsistent\")"
   ]
  },
  {
   "cell_type": "code",
   "execution_count": 61,
   "metadata": {},
   "outputs": [
    {
     "name": "stdout",
     "output_type": "stream",
     "text": [
      "The solution is  8.0\n"
     ]
    }
   ],
   "source": [
    "#Make use of python program, show that the linear congruence 6x ≡ 5(mod 15) has no solution.\n",
    "from math import *\n",
    "a = int(input(\"Enter a :\"))\n",
    "b = int(input(\"Enter b :\"))\n",
    "m = int(input(\"Enter m :\"))\n",
    "d = gcd(a, m)\n",
    "if b%d == 0:\n",
    "    for i in range(1, m - 1):\n",
    "        x = (m * i + b)/a\n",
    "        if(x//1 == x):\n",
    "            print(\"The solution is \",x)\n",
    "            break\n",
    "else:\n",
    "    print(\"The congruence has no solution\")"
   ]
  },
  {
   "cell_type": "code",
   "execution_count": null,
   "metadata": {},
   "outputs": [],
   "source": []
  }
 ],
 "metadata": {
  "kernelspec": {
   "display_name": "Python 3",
   "language": "python",
   "name": "python3"
  },
  "language_info": {
   "codemirror_mode": {
    "name": "ipython",
    "version": 3
   },
   "file_extension": ".py",
   "mimetype": "text/x-python",
   "name": "python",
   "nbconvert_exporter": "python",
   "pygments_lexer": "ipython3",
   "version": "3.10.11"
  },
  "orig_nbformat": 4,
  "vscode": {
   "interpreter": {
    "hash": "66eba28a75a64fbe1a9b9c30d27f7c856726c51cbbef86297708eae4ce175db0"
   }
  }
 },
 "nbformat": 4,
 "nbformat_minor": 2
}
