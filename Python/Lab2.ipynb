{
 "cells": [
  {
   "cell_type": "code",
   "execution_count": 12,
   "metadata": {},
   "outputs": [
    {
     "name": "stdout",
     "output_type": "stream",
     "text": [
      "[-acos(1/9) + 2*pi, acos(1/9)]\n",
      "Angle between curves in radians is 1.571\n"
     ]
    }
   ],
   "source": [
    "from sympy import *\n",
    "\n",
    "r,t = symbols('r t')\n",
    "\n",
    "r1 = 4 * (1+cos(t))\n",
    "r2 = 5 * (1-cos(t))\n",
    "dr1 = diff(r1,t)\n",
    "dr2 = diff(r2,t)\n",
    "t1 = r1/dr1\n",
    "t2 = r2/dr2\n",
    "q = solve(r1 - r2,t)\n",
    "\n",
    "print(q)\n",
    "\n",
    "w1 = t1.subs({t:float(q[0])})\n",
    "w2 = t2.subs({t:float(q[0])})\n",
    "\n",
    "y1 = atan(w1)\n",
    "y2 = atan(w2)\n",
    "\n",
    "w = abs(y1 - y2)\n",
    "\n",
    "print(\"Angle between curves in radians is %0.3f\"%(w))"
   ]
  },
  {
   "cell_type": "code",
   "execution_count": 13,
   "metadata": {},
   "outputs": [
    {
     "name": "stdout",
     "output_type": "stream",
     "text": [
      "[atan(4/5)]\n",
      "Angle between curves in radians is 1.5708\n"
     ]
    }
   ],
   "source": [
    "from sympy import *\n",
    "r, t = symbols(\"r t\")\n",
    "\n",
    "r1 = 4 * cos(t)\n",
    "r2 = 5 * sin(t)\n",
    "\n",
    "dr1 = diff(r1,t)\n",
    "dr2 = diff(r2,t)\n",
    "\n",
    "t1 = dr1/r1\n",
    "t2 = dr2/r2\n",
    "\n",
    "q = solve(r1 - r2,t)\n",
    "\n",
    "print(q)\n",
    "\n",
    "w1 = t1.subs(t,float(q[0]))\n",
    "w2 = t2.subs(t,float(q[0])\n",
    "\n",
    "y1 = atan(w1)\n",
    "y2 = atan(w2)\n",
    "\n",
    "w = abs(y2 - y1)\n",
    "\n",
    "print(\"Angle between curves in radians is %.4f\" % w)"
   ]
  },
  {
   "cell_type": "code",
   "execution_count": 17,
   "metadata": {},
   "outputs": [
    {
     "name": "stdout",
     "output_type": "stream",
     "text": [
      "The radius of curvature is 11.3137 units\n"
     ]
    }
   ],
   "source": [
    "from sympy import *\n",
    "r,t = symbols(\"r t\")\n",
    "r = 4 * (1 + cos(t))\n",
    "r1 = Derivative(r,t).doit()\n",
    "r2 = Derivative(r1,t).doit()\n",
    "rho = ((r**2 + r1**2)**(3/2))/((r**2) + (2*(r2**2)) - (r*r2))\n",
    "rho1 = rho.subs({t:pi/2})\n",
    "\n",
    "print(\"The radius of curvature is %3.4f units\" %rho1)"
   ]
  },
  {
   "cell_type": "code",
   "execution_count": null,
   "metadata": {},
   "outputs": [],
   "source": []
  }
 ],
 "metadata": {
  "kernelspec": {
   "display_name": "Python 3.10.9 64-bit (microsoft store)",
   "language": "python",
   "name": "python3"
  },
  "language_info": {
   "codemirror_mode": {
    "name": "ipython",
    "version": 3
   },
   "file_extension": ".py",
   "mimetype": "text/x-python",
   "name": "python",
   "nbconvert_exporter": "python",
   "pygments_lexer": "ipython3",
   "version": "3.10.9"
  },
  "orig_nbformat": 4,
  "vscode": {
   "interpreter": {
    "hash": "66eba28a75a64fbe1a9b9c30d27f7c856726c51cbbef86297708eae4ce175db0"
   }
  }
 },
 "nbformat": 4,
 "nbformat_minor": 2
}
