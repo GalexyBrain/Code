{
 "cells": [
  {
   "cell_type": "code",
   "execution_count": 57,
   "metadata": {},
   "outputs": [],
   "source": [
    "from sympy import *\n",
    "from sympy.abc import *"
   ]
  },
  {
   "cell_type": "code",
   "execution_count": 58,
   "metadata": {},
   "outputs": [],
   "source": [
    "def RegulaFalsi(Function, Start, End, N):\n",
    "    Function = lambdify(x, Function)\n",
    "    for i in range(1, N + 1):\n",
    "        Root = (Start * Function(End) - End * Function(Start)) / (Function(End) - Function(Start))\n",
    "        print(f\"Iteration : {i}\\tRoot = {Root}\\tFunction = {Function(Root)}\")\n",
    "        if Function(Root) * Function(Start) < 0:\n",
    "            End = Root\n",
    "        else:\n",
    "            Start = Root"
   ]
  },
  {
   "cell_type": "code",
   "execution_count": 59,
   "metadata": {},
   "outputs": [],
   "source": [
    "def NewtonRaphson(Function, InitialValue, N):\n",
    "    DiffFunction = lambdify(x, diff(Function, x))\n",
    "    Function = lambdify(x, Function)\n",
    "    for i in range(1, N + 1):\n",
    "        Root = (InitialValue - (Function(InitialValue) / DiffFunction(InitialValue)))\n",
    "        print(f\"Iteration : {i}\\tRoot = {Root}\\tFunction = {Function(Root)}\")\n",
    "        InitialValue = Root"
   ]
  },
  {
   "cell_type": "code",
   "execution_count": 60,
   "metadata": {},
   "outputs": [
    {
     "name": "stdout",
     "output_type": "stream",
     "text": [
      "Iteration : 1\tRoot = 0.31466533780077094\tFunction = 0.5198711737709334\n",
      "Iteration : 2\tRoot = 0.44672814459133386\tFunction = 0.20354477776832103\n",
      "Iteration : 3\tRoot = 0.4940153365958987\tFunction = 0.07080234897836546\n",
      "Iteration : 4\tRoot = 0.5099461403652471\tFunction = 0.023607718826251234\n",
      "Iteration : 5\tRoot = 0.5152010099022496\tFunction = 0.007760113728615847\n",
      "Iteration : 6\tRoot = 0.5169222100105165\tFunction = 0.0025388646887650745\n",
      "Iteration : 7\tRoot = 0.517484676784512\tFunction = 0.0008293578901883425\n",
      "Iteration : 8\tRoot = 0.5176683449777302\tFunction = 0.00027078572770378173\n",
      "Iteration : 9\tRoot = 0.5177283052714122\tFunction = 8.839713027164464e-05\n",
      "Iteration : 10\tRoot = 0.5177478783221143\tFunction = 2.8855410378447743e-05\n",
      "\n"
     ]
    },
    {
     "ename": "TypeError",
     "evalue": "loop of ufunc does not support argument 0 of type Symbol which has no callable log method",
     "output_type": "error",
     "traceback": [
      "\u001b[1;31m---------------------------------------------------------------------------\u001b[0m",
      "\u001b[1;31mAttributeError\u001b[0m                            Traceback (most recent call last)",
      "\u001b[1;31mAttributeError\u001b[0m: 'Symbol' object has no attribute 'log'",
      "\nThe above exception was the direct cause of the following exception:\n",
      "\u001b[1;31mTypeError\u001b[0m                                 Traceback (most recent call last)",
      "Cell \u001b[1;32mIn[60], line 5\u001b[0m\n\u001b[0;32m      3\u001b[0m RegulaFalsi(y, \u001b[39mfloat\u001b[39m(\u001b[39minput\u001b[39m(\u001b[39m\"\u001b[39m\u001b[39mEnter the start value : \u001b[39m\u001b[39m\"\u001b[39m)), \u001b[39mfloat\u001b[39m(\u001b[39minput\u001b[39m(\u001b[39m\"\u001b[39m\u001b[39mEnter the end value : \u001b[39m\u001b[39m\"\u001b[39m)), N)\n\u001b[0;32m      4\u001b[0m \u001b[39mprint\u001b[39m()\n\u001b[1;32m----> 5\u001b[0m NewtonRaphson(y, \u001b[39mfloat\u001b[39;49m(\u001b[39minput\u001b[39;49m(\u001b[39m\"\u001b[39;49m\u001b[39mEnter the Initial value : \u001b[39;49m\u001b[39m\"\u001b[39;49m)), N)\n",
      "Cell \u001b[1;32mIn[59], line 5\u001b[0m, in \u001b[0;36mNewtonRaphson\u001b[1;34m(Function, InitialValue, N)\u001b[0m\n\u001b[0;32m      3\u001b[0m Function \u001b[39m=\u001b[39m lambdify(x, Function)\n\u001b[0;32m      4\u001b[0m \u001b[39mfor\u001b[39;00m i \u001b[39min\u001b[39;00m \u001b[39mrange\u001b[39m(\u001b[39m1\u001b[39m, N \u001b[39m+\u001b[39m \u001b[39m1\u001b[39m):\n\u001b[1;32m----> 5\u001b[0m     Root \u001b[39m=\u001b[39m (InitialValue \u001b[39m-\u001b[39m (Function(InitialValue) \u001b[39m/\u001b[39m DiffFunction(InitialValue)))\n\u001b[0;32m      6\u001b[0m     \u001b[39mprint\u001b[39m(\u001b[39mf\u001b[39m\u001b[39m\"\u001b[39m\u001b[39mIteration : \u001b[39m\u001b[39m{\u001b[39;00mi\u001b[39m}\u001b[39;00m\u001b[39m\\t\u001b[39;00m\u001b[39mRoot = \u001b[39m\u001b[39m{\u001b[39;00mRoot\u001b[39m}\u001b[39;00m\u001b[39m\\t\u001b[39;00m\u001b[39mFunction = \u001b[39m\u001b[39m{\u001b[39;00mFunction(Root)\u001b[39m}\u001b[39;00m\u001b[39m\"\u001b[39m)\n\u001b[0;32m      7\u001b[0m     InitialValue \u001b[39m=\u001b[39m Root\n",
      "File \u001b[1;32m<lambdifygenerated-30>:2\u001b[0m, in \u001b[0;36m_lambdifygenerated\u001b[1;34m(x)\u001b[0m\n\u001b[0;32m      1\u001b[0m \u001b[39mdef\u001b[39;00m \u001b[39m_lambdifygenerated\u001b[39m(x):\n\u001b[1;32m----> 2\u001b[0m     \u001b[39mreturn\u001b[39;00m \u001b[39m-\u001b[39me\u001b[39m*\u001b[39m\u001b[39m*\u001b[39mx\u001b[39m*\u001b[39mx\u001b[39m*\u001b[39mlog(e) \u001b[39m-\u001b[39m e\u001b[39m*\u001b[39m\u001b[39m*\u001b[39mx \u001b[39m-\u001b[39m sin(x)\n",
      "\u001b[1;31mTypeError\u001b[0m: loop of ufunc does not support argument 0 of type Symbol which has no callable log method"
     ]
    }
   ],
   "source": [
    "y = input(\"Enter the function : \")\n",
    "N = int(input(\"Enter the number of iterations : \"))\n",
    "RegulaFalsi(y, float(input(\"Enter the start value : \")), float(input(\"Enter the end value : \")), N)\n",
    "print()\n",
    "NewtonRaphson(y, float(input(\"Enter the Initial value : \")), N)\n"
   ]
  }
 ],
 "metadata": {
  "kernelspec": {
   "display_name": "Python 3",
   "language": "python",
   "name": "python3"
  },
  "language_info": {
   "codemirror_mode": {
    "name": "ipython",
    "version": 3
   },
   "file_extension": ".py",
   "mimetype": "text/x-python",
   "name": "python",
   "nbconvert_exporter": "python",
   "pygments_lexer": "ipython3",
   "version": "3.10.11"
  },
  "orig_nbformat": 4
 },
 "nbformat": 4,
 "nbformat_minor": 2
}
