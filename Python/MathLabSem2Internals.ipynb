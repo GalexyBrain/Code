{
 "cells": [
  {
   "cell_type": "markdown",
   "metadata": {},
   "source": [
    "1. Make use of python program, find the gradient of ∅ = 𝑥**3 + 𝑦**3 + 𝑧**3 - 3xyz "
   ]
  },
  {
   "cell_type": "code",
   "execution_count": 48,
   "metadata": {},
   "outputs": [
    {
     "name": "stdout",
     "output_type": "stream",
     "text": [
      "[3*x**2 - 3*y*z, -3*x*z + 3*y**2, -3*x*y + 3*z**2]\n"
     ]
    }
   ],
   "source": [
    "import sympy\n",
    "\n",
    "def gradiant(f, vars):\n",
    "    grad = []\n",
    "    for i in vars:\n",
    "        grad.append(sympy.diff(f, i))\n",
    "    return grad\n",
    "\n",
    "if __name__ == \"__main__\":\n",
    "    f = x**3 + y**3 + z**3 - 3*x*y*z\n",
    "    print(gradiant(f, [x, y, z]))"
   ]
  },
  {
   "cell_type": "markdown",
   "metadata": {},
   "source": [
    "2. Make use of python program, find the divergence of 𝐹⃗ = (3𝑥**2 − 3𝑦𝑧)𝑖 + (3𝑦**2 − 3𝑥𝑧)𝑗 +(3𝑧**2 − 3𝑥𝑦) .\n"
   ]
  },
  {
   "cell_type": "code",
   "execution_count": 49,
   "metadata": {},
   "outputs": [
    {
     "name": "stdout",
     "output_type": "stream",
     "text": [
      "6*x + 6*y + 6*z\n"
     ]
    }
   ],
   "source": [
    "import sympy\n",
    "\n",
    "def divergence(f, vars):\n",
    "    div = 0\n",
    "    for i, j in enumerate(vars):\n",
    "        div += sympy.diff(f[i], j)\n",
    "    return div\n",
    "\n",
    "if __name__ == \"__main__\":\n",
    "    f = [(3*x**2 - 3*y*z), (3*y**2 - 3*x*z), (3*z**2 - 3*x*y)]\n",
    "    print(divergence(f, [x, y, z]))"
   ]
  },
  {
   "cell_type": "markdown",
   "metadata": {},
   "source": [
    "3. Make use of python program, find the curl of 𝐹⃗ = (3𝑥**2 − 3𝑦𝑧)𝑖 + (3𝑦**2 − 3𝑥𝑧)𝑗 + (3𝑧**2 − 𝑥𝑦)k"
   ]
  },
  {
   "cell_type": "code",
   "execution_count": 50,
   "metadata": {},
   "outputs": [
    {
     "name": "stdout",
     "output_type": "stream",
     "text": [
      "Curl of F:\n"
     ]
    },
    {
     "data": {
      "text/latex": [
       "$\\displaystyle \\left[\\begin{matrix}0\\\\0\\\\0\\end{matrix}\\right]$"
      ],
      "text/plain": [
       "Matrix([\n",
       "[0],\n",
       "[0],\n",
       "[0]])"
      ]
     },
     "metadata": {},
     "output_type": "display_data"
    }
   ],
   "source": [
    "import sympy as sp\n",
    "\n",
    "x, y, z = sp.symbols('x y z')\n",
    "F = sp.Matrix([3*x**2 - 3*y*z, 3*y**2 - 3*x*z, 3*z**2 - 3*x*y])\n",
    "curl_F = sp.Matrix([\n",
    "    sp.diff(F[2], y) - sp.diff(F[1], z),\n",
    "    sp.diff(F[0], z) - sp.diff(F[2], x),\n",
    "    sp.diff(F[1], x) - sp.diff(F[0], y)\n",
    "])\n",
    "print(\"Curl of F:\")\n",
    "display(curl_F)"
   ]
  },
  {
   "cell_type": "markdown",
   "metadata": {},
   "source": [
    "4. Make use of python program, given f(3)=4.8, f(4)=8.4, f(5)=14.5, f(6)=23.6, f(7)=36.2,\n",
    "f(8)=52.8, f(9)=73.9. Find f (1) and f(10) using Newton’s forward interpolation method. "
   ]
  },
  {
   "cell_type": "code",
   "execution_count": 51,
   "metadata": {},
   "outputs": [
    {
     "name": "stdout",
     "output_type": "stream",
     "text": [
      "f(1)= 3.100000000000595\n",
      "f(10)= 100.00000000000023\n"
     ]
    }
   ],
   "source": [
    "import numpy as np\n",
    "\n",
    "x = [i for i in range(3, 10)]\n",
    "y = [4.8, 8.4, 14.5, 23.6, 36.2, 52.8, 73.9]\n",
    "\n",
    "f = np.polyfit(x, y, deg = len(x) - 1)\n",
    "\n",
    "print('f(1)=', np.polyval(f, 1))\n",
    "print('f(10)=', np.polyval(f, 10))\n"
   ]
  },
  {
   "cell_type": "markdown",
   "metadata": {},
   "source": [
    "5. Make use of python program, evaluate the integral ∫ ∫ ∫ (𝑥𝑦𝑧)𝑑𝑧𝑑𝑦𝑑𝑥."
   ]
  },
  {
   "cell_type": "code",
   "execution_count": 52,
   "metadata": {},
   "outputs": [
    {
     "data": {
      "text/latex": [
       "$\\displaystyle \\frac{81}{80}$"
      ],
      "text/plain": [
       "81/80"
      ]
     },
     "metadata": {},
     "output_type": "display_data"
    }
   ],
   "source": [
    "import sympy as sp\n",
    "\n",
    "x, y, z = sp.symbols(\"x y z\")\n",
    "display(sp.integrate(x*y*z, (z, 0, 3-x-y), (y, 0, 3-x), (x, 0, 3)))"
   ]
  },
  {
   "cell_type": "markdown",
   "metadata": {},
   "source": [
    "6. Make use of python program, find the area of an ellipse by double integration\n",
    "𝐴 = 4 ∫ ∫ 𝑑𝑦𝑑𝑥 (𝑏/𝑎)√𝑎2−𝑥."
   ]
  },
  {
   "cell_type": "code",
   "execution_count": 53,
   "metadata": {},
   "outputs": [
    {
     "data": {
      "text/latex": [
       "$\\displaystyle 24.0 \\pi$"
      ],
      "text/plain": [
       "24.0*pi"
      ]
     },
     "metadata": {},
     "output_type": "display_data"
    }
   ],
   "source": [
    "import sympy as sp\n",
    "\n",
    "x, y= sp.symbols(\"x y\")\n",
    "a, b = 4, 6\n",
    "display(4 * sp.integrate(1, (y, 0, (b / a) * sp.sqrt(a**2 - x**2)), (x, 0, a)))"
   ]
  },
  {
   "cell_type": "markdown",
   "metadata": {},
   "source": [
    "7. Make use of python program, evaluate Γ(5) by using definition."
   ]
  },
  {
   "cell_type": "code",
   "execution_count": 54,
   "metadata": {},
   "outputs": [
    {
     "name": "stdout",
     "output_type": "stream",
     "text": [
      "24\n"
     ]
    }
   ],
   "source": [
    "import sympy as sp\n",
    "\n",
    "print(sp.integrate(sp.exp(-x) * x** (5-1), (x, 0, float('infinity'))))"
   ]
  },
  {
   "cell_type": "markdown",
   "metadata": {},
   "source": [
    "8. Make use of python program, calculate Beta (5/2, 7/2) and Gamma (7/2)"
   ]
  },
  {
   "cell_type": "code",
   "execution_count": 55,
   "metadata": {},
   "outputs": [
    {
     "name": "stdout",
     "output_type": "stream",
     "text": [
      "3.32335097044784\n",
      "0.0368155389092554\n"
     ]
    }
   ],
   "source": [
    "import sympy as sp\n",
    "\n",
    "print(sp.gamma(7/2))\n",
    "print(sp.beta(5/2, 7/2))"
   ]
  },
  {
   "cell_type": "markdown",
   "metadata": {},
   "source": [
    "9. Make use of python program, find the dimension of subspace spanned by the vectors\n",
    "(1,2,3) , (2,3,1) and (3,1,2) ."
   ]
  },
  {
   "cell_type": "code",
   "execution_count": 3,
   "metadata": {},
   "outputs": [
    {
     "name": "stdout",
     "output_type": "stream",
     "text": [
      "Dimension of the subspace: 3\n"
     ]
    }
   ],
   "source": [
    "import numpy as np\n",
    "\n",
    "matrix = np.array([[1, 2, 3],\n",
    "                   [2, 3, 1],\n",
    "                   [3, 1, 2]])\n",
    "rank = np.linalg.matrix_rank(matrix)\n",
    "print(\"Dimension of the subspace:\", rank)\n"
   ]
  },
  {
   "cell_type": "markdown",
   "metadata": {},
   "source": [
    "10. Make use of python program, find the inner product of the vector (2, 1, 5, 4) and (3, 4, 7, 8)."
   ]
  },
  {
   "cell_type": "code",
   "execution_count": 57,
   "metadata": {},
   "outputs": [
    {
     "name": "stdout",
     "output_type": "stream",
     "text": [
      "Inner product of the vectors: 77\n"
     ]
    }
   ],
   "source": [
    "import numpy as np\n",
    "\n",
    "vector1 = np.array([2, 1, 5, 4])\n",
    "vector2 = np.array([3, 4, 7, 8])\n",
    "inner_product = np.dot(vector1, vector2)\n",
    "print(\"Inner product of the vectors:\", inner_product)"
   ]
  }
 ],
 "metadata": {
  "kernelspec": {
   "display_name": "Python 3",
   "language": "python",
   "name": "python3"
  },
  "language_info": {
   "codemirror_mode": {
    "name": "ipython",
    "version": 3
   },
   "file_extension": ".py",
   "mimetype": "text/x-python",
   "name": "python",
   "nbconvert_exporter": "python",
   "pygments_lexer": "ipython3",
   "version": "3.10.11"
  },
  "orig_nbformat": 4
 },
 "nbformat": 4,
 "nbformat_minor": 2
}
